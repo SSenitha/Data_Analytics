{
  "nbformat": 4,
  "nbformat_minor": 0,
  "metadata": {
    "colab": {
      "provenance": [],
      "authorship_tag": "ABX9TyPncQh61JUS39QLfmLbyKBQ",
      "include_colab_link": true
    },
    "kernelspec": {
      "name": "python3",
      "display_name": "Python 3"
    },
    "language_info": {
      "name": "python"
    }
  },
  "cells": [
    {
      "cell_type": "markdown",
      "metadata": {
        "id": "view-in-github",
        "colab_type": "text"
      },
      "source": [
        "<a href=\"https://colab.research.google.com/github/SSenitha/Data_Analytics/blob/main/masterNotebook.ipynb\" target=\"_parent\"><img src=\"https://colab.research.google.com/assets/colab-badge.svg\" alt=\"Open In Colab\"/></a>"
      ]
    },
    {
      "cell_type": "markdown",
      "source": [
        "#Analysis of Rain in Australia\n",
        "This notebook contains all the steps of the analysis: From data cleaning and preprocessing to the conclusions."
      ],
      "metadata": {
        "id": "SNENYP6c_HRy"
      }
    },
    {
      "cell_type": "code",
      "source": [
        "#Import necessary libraries\n",
        "\n",
        "import pandas as pd\n",
        "import numpy as np\n",
        "import seaborn as sns\n",
        "import matplotlib.pyplot as plt\n",
        "from scipy.stats import stats"
      ],
      "metadata": {
        "id": "EiOUdBn_DPPU"
      },
      "execution_count": null,
      "outputs": []
    },
    {
      "cell_type": "code",
      "source": [
        "# Read the dataset and output the total count\n",
        "df = pd.read_csv('/content/weatherAUS.csv')\n",
        "print(df.head())\n",
        "print(f\"Total rows count: {df['RainToday'].count()}\")"
      ],
      "metadata": {
        "id": "lh5THKPOj-f6"
      },
      "execution_count": null,
      "outputs": []
    },
    {
      "cell_type": "code",
      "source": [
        "# Check for the missing values\n",
        "missing_values_count = df.isnull().sum()\n",
        "print(missing_values_count)\n",
        "\n",
        "# Calculate the percent of data that is missing\n",
        "total_cells = np.prod(df.shape)\n",
        "total_missing = missing_values_count.sum()\n",
        "\n",
        "percent_missing = (total_missing/total_cells) * 100\n",
        "print(f\"Percentage of missing values: {percent_missing}\")"
      ],
      "metadata": {
        "id": "itzqgZmPkBKB"
      },
      "execution_count": null,
      "outputs": []
    },
    {
      "cell_type": "code",
      "source": [
        "# Remove all the rows that contain a missing value\n",
        "df = df.dropna()\n",
        "#print(df.head())\n",
        "\n",
        "# Check the remaining value count\n",
        "print(f\"Total rows Left: {df['RainToday'].count()}\")"
      ],
      "metadata": {
        "id": "Y5nNvxU2kHq3"
      },
      "execution_count": null,
      "outputs": []
    }
  ]
}