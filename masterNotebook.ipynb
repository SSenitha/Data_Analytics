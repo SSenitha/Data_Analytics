{
  "nbformat": 4,
  "nbformat_minor": 0,
  "metadata": {
    "colab": {
      "provenance": [],
      "authorship_tag": "ABX9TyM8G8blDE8FbMtZONI7FAnx",
      "include_colab_link": true
    },
    "kernelspec": {
      "name": "python3",
      "display_name": "Python 3"
    },
    "language_info": {
      "name": "python"
    }
  },
  "cells": [
    {
      "cell_type": "markdown",
      "metadata": {
        "id": "view-in-github",
        "colab_type": "text"
      },
      "source": [
        "<a href=\"https://colab.research.google.com/github/SSenitha/Data_Analytics/blob/Sandaru's/masterNotebook.ipynb\" target=\"_parent\"><img src=\"https://colab.research.google.com/assets/colab-badge.svg\" alt=\"Open In Colab\"/></a>"
      ]
    },
    {
      "cell_type": "markdown",
      "source": [
        "#Analysis of Rain in Australia\n",
        "This notebook contains all the steps of the analysis: From data cleaning and preprocessing to the conclusions."
      ],
      "metadata": {
        "id": "SNENYP6c_HRy"
      }
    },
    {
      "cell_type": "code",
      "source": [
        "# Load data from the repository\n",
        "!wget https://raw.githubusercontent.com/SSenitha/Data_Analytics/main/weatherAUS.csv"
      ],
      "metadata": {
        "id": "PHoIv_sLmcdy",
        "outputId": "9fef2675-7749-4a82-ba1d-397834f8b38f",
        "colab": {
          "base_uri": "https://localhost:8080/"
        }
      },
      "execution_count": 1,
      "outputs": [
        {
          "output_type": "stream",
          "name": "stdout",
          "text": [
            "--2025-06-29 16:51:51--  https://raw.githubusercontent.com/SSenitha/Data_Analytics/main/weatherAUS.csv\n",
            "Resolving raw.githubusercontent.com (raw.githubusercontent.com)... 185.199.109.133, 185.199.110.133, 185.199.108.133, ...\n",
            "Connecting to raw.githubusercontent.com (raw.githubusercontent.com)|185.199.109.133|:443... connected.\n",
            "HTTP request sent, awaiting response... 200 OK\n",
            "Length: 14094055 (13M) [text/plain]\n",
            "Saving to: ‘weatherAUS.csv’\n",
            "\n",
            "weatherAUS.csv      100%[===================>]  13.44M  83.7MB/s    in 0.2s    \n",
            "\n",
            "2025-06-29 16:51:52 (83.7 MB/s) - ‘weatherAUS.csv’ saved [14094055/14094055]\n",
            "\n"
          ]
        }
      ]
    },
    {
      "cell_type": "code",
      "source": [
        "#Import necessary libraries\n",
        "\n",
        "import pandas as pd\n",
        "import numpy as np\n",
        "import seaborn as sns\n",
        "import matplotlib.pyplot as plt\n",
        "from scipy.stats import stats"
      ],
      "metadata": {
        "id": "EiOUdBn_DPPU"
      },
      "execution_count": 2,
      "outputs": []
    },
    {
      "cell_type": "code",
      "source": [
        "# Read the dataset and output the total count\n",
        "df = pd.read_csv('/content/weatherAUS.csv')\n",
        "print(df.head())\n",
        "print(f\"Total rows count: {df['RainToday'].count()}\")"
      ],
      "metadata": {
        "id": "lh5THKPOj-f6",
        "outputId": "4edafd1f-1832-49d5-d240-2b8ba5ed3313",
        "colab": {
          "base_uri": "https://localhost:8080/"
        }
      },
      "execution_count": 3,
      "outputs": [
        {
          "output_type": "stream",
          "name": "stdout",
          "text": [
            "         Date Location  MinTemp  MaxTemp  Rainfall  Evaporation  Sunshine  \\\n",
            "0  2008-12-01   Albury     13.4     22.9       0.6          NaN       NaN   \n",
            "1  2008-12-02   Albury      7.4     25.1       0.0          NaN       NaN   \n",
            "2  2008-12-03   Albury     12.9     25.7       0.0          NaN       NaN   \n",
            "3  2008-12-04   Albury      9.2     28.0       0.0          NaN       NaN   \n",
            "4  2008-12-05   Albury     17.5     32.3       1.0          NaN       NaN   \n",
            "\n",
            "  WindGustDir  WindGustSpeed WindDir9am  ... Humidity9am  Humidity3pm  \\\n",
            "0           W           44.0          W  ...        71.0         22.0   \n",
            "1         WNW           44.0        NNW  ...        44.0         25.0   \n",
            "2         WSW           46.0          W  ...        38.0         30.0   \n",
            "3          NE           24.0         SE  ...        45.0         16.0   \n",
            "4           W           41.0        ENE  ...        82.0         33.0   \n",
            "\n",
            "   Pressure9am  Pressure3pm  Cloud9am  Cloud3pm  Temp9am  Temp3pm  RainToday  \\\n",
            "0       1007.7       1007.1       8.0       NaN     16.9     21.8         No   \n",
            "1       1010.6       1007.8       NaN       NaN     17.2     24.3         No   \n",
            "2       1007.6       1008.7       NaN       2.0     21.0     23.2         No   \n",
            "3       1017.6       1012.8       NaN       NaN     18.1     26.5         No   \n",
            "4       1010.8       1006.0       7.0       8.0     17.8     29.7         No   \n",
            "\n",
            "   RainTomorrow  \n",
            "0            No  \n",
            "1            No  \n",
            "2            No  \n",
            "3            No  \n",
            "4            No  \n",
            "\n",
            "[5 rows x 23 columns]\n",
            "Total rows count: 142199\n"
          ]
        }
      ]
    },
    {
      "cell_type": "code",
      "source": [
        "# Check for the missing values\n",
        "missing_values_count = df.isnull().sum()\n",
        "print(missing_values_count)\n",
        "\n",
        "# Calculate the percent of data that is missing\n",
        "total_cells = np.prod(df.shape)\n",
        "total_missing = missing_values_count.sum()\n",
        "\n",
        "percent_missing = (total_missing/total_cells) * 100\n",
        "print(f\"Percentage of missing values: {percent_missing}\")"
      ],
      "metadata": {
        "id": "itzqgZmPkBKB",
        "outputId": "09569c2f-1e24-4ff9-90b0-ac43f2028100",
        "colab": {
          "base_uri": "https://localhost:8080/"
        }
      },
      "execution_count": 4,
      "outputs": [
        {
          "output_type": "stream",
          "name": "stdout",
          "text": [
            "Date                 0\n",
            "Location             0\n",
            "MinTemp           1485\n",
            "MaxTemp           1261\n",
            "Rainfall          3261\n",
            "Evaporation      62790\n",
            "Sunshine         69835\n",
            "WindGustDir      10326\n",
            "WindGustSpeed    10263\n",
            "WindDir9am       10566\n",
            "WindDir3pm        4228\n",
            "WindSpeed9am      1767\n",
            "WindSpeed3pm      3062\n",
            "Humidity9am       2654\n",
            "Humidity3pm       4507\n",
            "Pressure9am      15065\n",
            "Pressure3pm      15028\n",
            "Cloud9am         55888\n",
            "Cloud3pm         59358\n",
            "Temp9am           1767\n",
            "Temp3pm           3609\n",
            "RainToday         3261\n",
            "RainTomorrow      3267\n",
            "dtype: int64\n",
            "Percentage of missing values: 10.259745694319072\n"
          ]
        }
      ]
    },
    {
      "cell_type": "code",
      "source": [
        "# Remove all the rows that contain a missing value\n",
        "df = df.dropna()\n",
        "#print(df.head())\n",
        "\n",
        "# Check the remaining value count\n",
        "print(f\"Total rows Left: {df['RainToday'].count()}\")"
      ],
      "metadata": {
        "id": "Y5nNvxU2kHq3",
        "outputId": "7c78cb44-2058-488e-b872-b9f7f623b698",
        "colab": {
          "base_uri": "https://localhost:8080/"
        }
      },
      "execution_count": 5,
      "outputs": [
        {
          "output_type": "stream",
          "name": "stdout",
          "text": [
            "Total rows Left: 56420\n"
          ]
        }
      ]
    }
  ]
}